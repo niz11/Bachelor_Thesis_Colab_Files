{
  "nbformat": 4,
  "nbformat_minor": 0,
  "metadata": {
    "colab": {
      "name": "5_frames_reapetVector_classifier.ipynb",
      "provenance": [],
      "collapsed_sections": [],
      "mount_file_id": "1uJ3WaCV-L5AujVWpk7YcunMLomocMvV_",
      "authorship_tag": "ABX9TyMI/vVf+2qPwbyZuJ7NUlAu",
      "include_colab_link": true
    },
    "kernelspec": {
      "name": "python3",
      "display_name": "Python 3"
    },
    "accelerator": "GPU"
  },
  "cells": [
    {
      "cell_type": "markdown",
      "metadata": {
        "id": "view-in-github",
        "colab_type": "text"
      },
      "source": [
        "<a href=\"https://colab.research.google.com/github/niz11/Bachelor_Thesis_Colab_Files/blob/main/5_frames_reapetVector_classifier.ipynb\" target=\"_parent\"><img src=\"https://colab.research.google.com/assets/colab-badge.svg\" alt=\"Open In Colab\"/></a>"
      ]
    },
    {
      "cell_type": "code",
      "metadata": {
        "id": "EqMB5X65d0wf"
      },
      "source": [
        "import numpy as np\n",
        "from sklearn.model_selection import train_test_split\n",
        "from keras.utils import to_categorical\n",
        "\n",
        "# Load encoding\n",
        "X = np.load('drive/My Drive/dataset_5_frame_seq_faces/X_5.npy')\n",
        "y = np.load('drive/My Drive/dataset_5_frame_seq_faces/Y_label_5.npy')\n",
        "\n",
        "X_train, X_test, y_train, y_test = train_test_split(X, y, test_size = 0.1, random_state = 0)\n",
        "y_train = to_categorical(y_train, num_classes=7)\n",
        "y_test = to_categorical(y_test, num_classes=7)\n"
      ],
      "execution_count": null,
      "outputs": []
    },
    {
      "cell_type": "code",
      "metadata": {
        "id": "qG8ZdRgfeA_E",
        "outputId": "f34f7ebb-80c1-4f94-800a-b104e6341cc1",
        "colab": {
          "base_uri": "https://localhost:8080/",
          "height": 303
        }
      },
      "source": [
        "import keras\n",
        "from keras.layers import Input, Flatten, Dense,LSTM,TimeDistributed,RepeatVector\n",
        "from keras.models import Model,Sequential\n",
        "from keras.utils import plot_model\n",
        "\n",
        "\n",
        "def create_model(encoding_length=64,sequence_length=10):\n",
        "  visible = Input(shape=(sequence_length,encoding_length))\n",
        "  encoder_outputs, state_h, state_c = LSTM(encoding_length, activation='relu', name='encoder', return_state=True)(visible)\n",
        "  encoder_state = [state_h, state_c]\n",
        "  clssifier  = Dense(7, activation='softmax')(encoder_outputs)\n",
        "\n",
        "  model = Model(inputs=visible, outputs=[clssifier])\n",
        "  model.compile(optimizer='adam', loss='categorical_crossentropy', metrics=['accuracy'])\n",
        "  plot_model(model, show_shapes=True, to_file='lstm_autoencoder.png')\n",
        "  model.summary()\n",
        "  return model\n",
        "\n",
        "model = create_model(128, 5)\n",
        "model.load_weights(\"drive/My Drive/trained_models/composite_repeat_5_frame_seq/encoderDotsRepeatVector-5.h5\",by_name=True)"
      ],
      "execution_count": null,
      "outputs": [
        {
          "output_type": "stream",
          "text": [
            "WARNING:tensorflow:Layer encoder will not use cuDNN kernel since it doesn't meet the cuDNN kernel criteria. It will use generic GPU kernel as fallback when running on GPU\n",
            "Model: \"functional_1\"\n",
            "_________________________________________________________________\n",
            "Layer (type)                 Output Shape              Param #   \n",
            "=================================================================\n",
            "input_1 (InputLayer)         [(None, 5, 128)]          0         \n",
            "_________________________________________________________________\n",
            "encoder (LSTM)               [(None, 128), (None, 128) 131584    \n",
            "_________________________________________________________________\n",
            "dense (Dense)                (None, 7)                 903       \n",
            "=================================================================\n",
            "Total params: 132,487\n",
            "Trainable params: 132,487\n",
            "Non-trainable params: 0\n",
            "_________________________________________________________________\n"
          ],
          "name": "stdout"
        }
      ]
    },
    {
      "cell_type": "code",
      "metadata": {
        "id": "mfuFNWQ3ePRs",
        "outputId": "5ab5c70f-a93a-44a6-fac9-834dd8ecd741",
        "colab": {
          "base_uri": "https://localhost:8080/",
          "height": 390
        }
      },
      "source": [
        "model.fit(X_train, y_train, epochs=10, verbose=1, validation_split=0.05)"
      ],
      "execution_count": null,
      "outputs": [
        {
          "output_type": "stream",
          "text": [
            "Epoch 1/10\n",
            "60/60 [==============================] - 1s 22ms/step - loss: 1.5545 - accuracy: 0.4104 - val_loss: 1.3674 - val_accuracy: 0.6200\n",
            "Epoch 2/10\n",
            "60/60 [==============================] - 1s 18ms/step - loss: 0.8919 - accuracy: 0.7203 - val_loss: 0.9937 - val_accuracy: 0.7500\n",
            "Epoch 3/10\n",
            "60/60 [==============================] - 1s 16ms/step - loss: 0.5177 - accuracy: 0.8414 - val_loss: 0.7805 - val_accuracy: 0.8600\n",
            "Epoch 4/10\n",
            "60/60 [==============================] - 1s 17ms/step - loss: 0.2687 - accuracy: 0.9196 - val_loss: 0.8189 - val_accuracy: 0.8400\n",
            "Epoch 5/10\n",
            "60/60 [==============================] - 1s 17ms/step - loss: 0.1402 - accuracy: 0.9614 - val_loss: 0.8230 - val_accuracy: 0.8400\n",
            "Epoch 6/10\n",
            "60/60 [==============================] - 1s 16ms/step - loss: 0.0771 - accuracy: 0.9788 - val_loss: 0.9350 - val_accuracy: 0.8800\n",
            "Epoch 7/10\n",
            "60/60 [==============================] - 1s 16ms/step - loss: 0.0601 - accuracy: 0.9868 - val_loss: 0.8619 - val_accuracy: 0.8700\n",
            "Epoch 8/10\n",
            "60/60 [==============================] - 1s 19ms/step - loss: 0.0516 - accuracy: 0.9873 - val_loss: 0.9157 - val_accuracy: 0.8700\n",
            "Epoch 9/10\n",
            "60/60 [==============================] - 1s 20ms/step - loss: 0.0546 - accuracy: 0.9873 - val_loss: 0.8826 - val_accuracy: 0.8600\n",
            "Epoch 10/10\n",
            "60/60 [==============================] - 1s 17ms/step - loss: 0.0649 - accuracy: 0.9810 - val_loss: 0.8675 - val_accuracy: 0.8800\n"
          ],
          "name": "stdout"
        },
        {
          "output_type": "execute_result",
          "data": {
            "text/plain": [
              "<tensorflow.python.keras.callbacks.History at 0x7fe6c0055f60>"
            ]
          },
          "metadata": {
            "tags": []
          },
          "execution_count": 3
        }
      ]
    },
    {
      "cell_type": "code",
      "metadata": {
        "id": "PgWnywzCeSqj"
      },
      "source": [
        "def getFaceExpressionFromIndex(i):\n",
        "  if (i == 0):\n",
        "      return 'surprise'\n",
        "  elif (i == 1):\n",
        "      return 'smile'\n",
        "  elif (i == 2):\n",
        "      return 'sad'\n",
        "  elif (i == 3):\n",
        "      return 'anger'\n",
        "  elif (i == 4):\n",
        "      return 'fear'\n",
        "  elif (i == 5):\n",
        "      return 'disgust'\n",
        "  elif (i == 6):\n",
        "      return 'none'\n",
        "  else:\n",
        "      print(i)"
      ],
      "execution_count": null,
      "outputs": []
    },
    {
      "cell_type": "code",
      "metadata": {
        "id": "km2lw1GbeeKR",
        "outputId": "d65d4fb1-71e0-40ea-cdf4-c5c5e1f63265",
        "colab": {
          "base_uri": "https://localhost:8080/",
          "height": 1000
        }
      },
      "source": [
        "test_predictions = model.predict(X_test)\n",
        "correct = 0\n",
        "for i in range(len(test_predictions)):\n",
        "  truth = np.argmax(y_test[i])\n",
        "  prediction = np.argmax(test_predictions[i])\n",
        "  if truth == prediction:\n",
        "    correct += 1\n",
        "  else:\n",
        "    print(f'Wrong classification, truth: {getFaceExpressionFromIndex(truth)}')\n",
        "    print(f'Wrong classification, prediction: {getFaceExpressionFromIndex(prediction)}')\n",
        "    print(\"---------------------------------------------------------------------------\")\n",
        "print(f'number of samples: {len(test_predictions)}')\n",
        "print(f'correct: {correct}')\n",
        "print(f'Accuracy of predicitons: {correct / len(test_predictions)}')"
      ],
      "execution_count": null,
      "outputs": [
        {
          "output_type": "stream",
          "text": [
            "Wrong classification, truth: anger\n",
            "Wrong classification, prediction: sad\n",
            "---------------------------------------------------------------------------\n",
            "Wrong classification, truth: sad\n",
            "Wrong classification, prediction: disgust\n",
            "---------------------------------------------------------------------------\n",
            "Wrong classification, truth: smile\n",
            "Wrong classification, prediction: anger\n",
            "---------------------------------------------------------------------------\n",
            "Wrong classification, truth: smile\n",
            "Wrong classification, prediction: anger\n",
            "---------------------------------------------------------------------------\n",
            "Wrong classification, truth: surprise\n",
            "Wrong classification, prediction: anger\n",
            "---------------------------------------------------------------------------\n",
            "Wrong classification, truth: none\n",
            "Wrong classification, prediction: fear\n",
            "---------------------------------------------------------------------------\n",
            "Wrong classification, truth: anger\n",
            "Wrong classification, prediction: sad\n",
            "---------------------------------------------------------------------------\n",
            "Wrong classification, truth: anger\n",
            "Wrong classification, prediction: sad\n",
            "---------------------------------------------------------------------------\n",
            "Wrong classification, truth: surprise\n",
            "Wrong classification, prediction: none\n",
            "---------------------------------------------------------------------------\n",
            "Wrong classification, truth: fear\n",
            "Wrong classification, prediction: sad\n",
            "---------------------------------------------------------------------------\n",
            "Wrong classification, truth: surprise\n",
            "Wrong classification, prediction: none\n",
            "---------------------------------------------------------------------------\n",
            "Wrong classification, truth: none\n",
            "Wrong classification, prediction: sad\n",
            "---------------------------------------------------------------------------\n",
            "Wrong classification, truth: surprise\n",
            "Wrong classification, prediction: anger\n",
            "---------------------------------------------------------------------------\n",
            "Wrong classification, truth: sad\n",
            "Wrong classification, prediction: anger\n",
            "---------------------------------------------------------------------------\n",
            "Wrong classification, truth: anger\n",
            "Wrong classification, prediction: smile\n",
            "---------------------------------------------------------------------------\n",
            "Wrong classification, truth: anger\n",
            "Wrong classification, prediction: surprise\n",
            "---------------------------------------------------------------------------\n",
            "Wrong classification, truth: anger\n",
            "Wrong classification, prediction: surprise\n",
            "---------------------------------------------------------------------------\n",
            "Wrong classification, truth: none\n",
            "Wrong classification, prediction: surprise\n",
            "---------------------------------------------------------------------------\n",
            "Wrong classification, truth: smile\n",
            "Wrong classification, prediction: sad\n",
            "---------------------------------------------------------------------------\n",
            "Wrong classification, truth: anger\n",
            "Wrong classification, prediction: none\n",
            "---------------------------------------------------------------------------\n",
            "Wrong classification, truth: disgust\n",
            "Wrong classification, prediction: sad\n",
            "---------------------------------------------------------------------------\n",
            "Wrong classification, truth: smile\n",
            "Wrong classification, prediction: none\n",
            "---------------------------------------------------------------------------\n",
            "Wrong classification, truth: anger\n",
            "Wrong classification, prediction: smile\n",
            "---------------------------------------------------------------------------\n",
            "Wrong classification, truth: smile\n",
            "Wrong classification, prediction: anger\n",
            "---------------------------------------------------------------------------\n",
            "Wrong classification, truth: surprise\n",
            "Wrong classification, prediction: anger\n",
            "---------------------------------------------------------------------------\n",
            "Wrong classification, truth: surprise\n",
            "Wrong classification, prediction: anger\n",
            "---------------------------------------------------------------------------\n",
            "number of samples: 222\n",
            "correct: 196\n",
            "Accuracy of predicitons: 0.8828828828828829\n"
          ],
          "name": "stdout"
        }
      ]
    },
    {
      "cell_type": "code",
      "metadata": {
        "id": "L4y4f7mDefUn"
      },
      "source": [
        "# Here and below is the network to classify the encodings"
      ],
      "execution_count": null,
      "outputs": []
    },
    {
      "cell_type": "code",
      "metadata": {
        "id": "2iQRHfNJdwjM",
        "outputId": "2fc5cb39-bb1f-466a-8d34-6a6b0c18578c",
        "colab": {
          "base_uri": "https://localhost:8080/",
          "height": 72
        }
      },
      "source": [
        "from keras.models import load_model\n",
        "from keras.models import model_from_json\n",
        "import json\n",
        "\n",
        "# load json and create model\n",
        "json_file = open('drive/My Drive/trained_models/composite_repeat_5_frame_seq/encoderDotsRepeatVector_5.json', 'r')\n",
        "loaded_model_json = json_file.read()\n",
        "json_file.close()\n",
        "encoder = model_from_json(loaded_model_json)\n",
        "# load weights into new model\n",
        "encoder.load_weights(\"drive/My Drive/trained_models/composite_repeat_5_frame_seq/encoderDotsRepeatVector-5.h5\")\n",
        "print(\"Loaded model from disk\")"
      ],
      "execution_count": null,
      "outputs": [
        {
          "output_type": "stream",
          "text": [
            "WARNING:tensorflow:Layer encoder will not use cuDNN kernel since it doesn't meet the cuDNN kernel criteria. It will use generic GPU kernel as fallback when running on GPU\n",
            "Loaded model from disk\n"
          ],
          "name": "stdout"
        }
      ]
    },
    {
      "cell_type": "code",
      "metadata": {
        "id": "iiKDgfx2hWeZ"
      },
      "source": [
        "# Check here: better divinding to test/train set\n",
        "import numpy as np\n",
        "from sklearn.model_selection import train_test_split\n",
        "from keras.utils import to_categorical\n",
        "\n",
        "# Load encoding\n",
        "X = np.load('drive/My Drive/dataset_5_frame_seq_faces/X_5.npy')\n",
        "y = np.load('drive/My Drive/dataset_5_frame_seq_faces/Y_label_5.npy')\n",
        "\n",
        "predictions = encoder.predict(X)\n",
        "\n",
        "\n",
        "X_train, X_test, y_train, y_test = train_test_split(predictions, y, test_size = 0.1, random_state = 0)\n",
        "y_train = to_categorical(y_train, num_classes=7)\n",
        "y_test = to_categorical(y_test, num_classes=7)"
      ],
      "execution_count": null,
      "outputs": []
    },
    {
      "cell_type": "code",
      "metadata": {
        "id": "zo8Dtd_lheva"
      },
      "source": [
        "from keras.models import Sequential\n",
        "from keras.layers import Dense\n",
        "from keras.optimizers import SGD\n",
        "\n",
        "\n",
        "def classifier():\n",
        "  model = Sequential()\n",
        "  model.add(Dense(64, input_dim=128, activation='relu'))\n",
        "  model.add(Dense(32, activation='relu'))\n",
        "  model.add(Dense(7, activation='softmax'))\n",
        "  model.compile(optimizer='adam', loss='categorical_crossentropy', metrics=['accuracy'])\n",
        "  return model\n"
      ],
      "execution_count": null,
      "outputs": []
    },
    {
      "cell_type": "code",
      "metadata": {
        "id": "56St-7yIhhFW",
        "outputId": "7ee75346-1d3b-4e44-afe1-876510df000e",
        "colab": {
          "base_uri": "https://localhost:8080/",
          "height": 1000
        }
      },
      "source": [
        "model = classifier()\n",
        "model.fit(X_train, y_train, epochs=50, verbose=1, validation_split=0.1)"
      ],
      "execution_count": null,
      "outputs": [
        {
          "output_type": "stream",
          "text": [
            "Epoch 1/50\n",
            "56/56 [==============================] - 0s 5ms/step - loss: 1.8092 - accuracy: 0.2423 - val_loss: 1.8139 - val_accuracy: 0.2300\n",
            "Epoch 2/50\n",
            "56/56 [==============================] - 0s 3ms/step - loss: 1.6074 - accuracy: 0.3992 - val_loss: 1.6759 - val_accuracy: 0.3600\n",
            "Epoch 3/50\n",
            "56/56 [==============================] - 0s 3ms/step - loss: 1.4312 - accuracy: 0.4936 - val_loss: 1.5684 - val_accuracy: 0.4200\n",
            "Epoch 4/50\n",
            "56/56 [==============================] - 0s 3ms/step - loss: 1.2763 - accuracy: 0.5639 - val_loss: 1.4789 - val_accuracy: 0.4850\n",
            "Epoch 5/50\n",
            "56/56 [==============================] - 0s 3ms/step - loss: 1.1264 - accuracy: 0.6159 - val_loss: 1.4030 - val_accuracy: 0.4950\n",
            "Epoch 6/50\n",
            "56/56 [==============================] - 0s 3ms/step - loss: 1.0158 - accuracy: 0.6639 - val_loss: 1.3355 - val_accuracy: 0.5450\n",
            "Epoch 7/50\n",
            "56/56 [==============================] - 0s 3ms/step - loss: 0.9007 - accuracy: 0.7119 - val_loss: 1.2732 - val_accuracy: 0.5950\n",
            "Epoch 8/50\n",
            "56/56 [==============================] - 0s 3ms/step - loss: 0.8019 - accuracy: 0.7521 - val_loss: 1.2335 - val_accuracy: 0.6300\n",
            "Epoch 9/50\n",
            "56/56 [==============================] - 0s 3ms/step - loss: 0.7198 - accuracy: 0.7795 - val_loss: 1.1883 - val_accuracy: 0.6350\n",
            "Epoch 10/50\n",
            "56/56 [==============================] - 0s 3ms/step - loss: 0.6384 - accuracy: 0.8180 - val_loss: 1.1895 - val_accuracy: 0.6350\n",
            "Epoch 11/50\n",
            "56/56 [==============================] - 0s 3ms/step - loss: 0.5758 - accuracy: 0.8364 - val_loss: 1.1320 - val_accuracy: 0.6700\n",
            "Epoch 12/50\n",
            "56/56 [==============================] - 0s 3ms/step - loss: 0.5054 - accuracy: 0.8738 - val_loss: 1.0944 - val_accuracy: 0.6800\n",
            "Epoch 13/50\n",
            "56/56 [==============================] - 0s 3ms/step - loss: 0.4469 - accuracy: 0.8911 - val_loss: 1.1121 - val_accuracy: 0.6850\n",
            "Epoch 14/50\n",
            "56/56 [==============================] - 0s 3ms/step - loss: 0.3979 - accuracy: 0.9123 - val_loss: 1.0785 - val_accuracy: 0.6900\n",
            "Epoch 15/50\n",
            "56/56 [==============================] - 0s 3ms/step - loss: 0.3504 - accuracy: 0.9207 - val_loss: 1.0903 - val_accuracy: 0.7250\n",
            "Epoch 16/50\n",
            "56/56 [==============================] - 0s 3ms/step - loss: 0.3139 - accuracy: 0.9313 - val_loss: 1.0738 - val_accuracy: 0.7150\n",
            "Epoch 17/50\n",
            "56/56 [==============================] - 0s 3ms/step - loss: 0.2783 - accuracy: 0.9492 - val_loss: 1.0779 - val_accuracy: 0.7150\n",
            "Epoch 18/50\n",
            "56/56 [==============================] - 0s 3ms/step - loss: 0.2412 - accuracy: 0.9604 - val_loss: 1.0647 - val_accuracy: 0.7200\n",
            "Epoch 19/50\n",
            "56/56 [==============================] - 0s 3ms/step - loss: 0.2153 - accuracy: 0.9698 - val_loss: 1.0497 - val_accuracy: 0.7350\n",
            "Epoch 20/50\n",
            "56/56 [==============================] - 0s 3ms/step - loss: 0.1920 - accuracy: 0.9721 - val_loss: 1.0872 - val_accuracy: 0.7550\n",
            "Epoch 21/50\n",
            "56/56 [==============================] - 0s 3ms/step - loss: 0.1722 - accuracy: 0.9805 - val_loss: 1.1031 - val_accuracy: 0.7150\n",
            "Epoch 22/50\n",
            "56/56 [==============================] - 0s 3ms/step - loss: 0.1503 - accuracy: 0.9816 - val_loss: 1.0870 - val_accuracy: 0.7300\n",
            "Epoch 23/50\n",
            "56/56 [==============================] - 0s 3ms/step - loss: 0.1324 - accuracy: 0.9855 - val_loss: 1.1074 - val_accuracy: 0.7500\n",
            "Epoch 24/50\n",
            "56/56 [==============================] - 0s 3ms/step - loss: 0.1175 - accuracy: 0.9888 - val_loss: 1.1044 - val_accuracy: 0.7300\n",
            "Epoch 25/50\n",
            "56/56 [==============================] - 0s 3ms/step - loss: 0.1047 - accuracy: 0.9911 - val_loss: 1.1231 - val_accuracy: 0.7500\n",
            "Epoch 26/50\n",
            "56/56 [==============================] - 0s 3ms/step - loss: 0.0949 - accuracy: 0.9905 - val_loss: 1.1038 - val_accuracy: 0.7450\n",
            "Epoch 27/50\n",
            "56/56 [==============================] - 0s 3ms/step - loss: 0.0851 - accuracy: 0.9939 - val_loss: 1.1336 - val_accuracy: 0.7500\n",
            "Epoch 28/50\n",
            "56/56 [==============================] - 0s 3ms/step - loss: 0.0743 - accuracy: 0.9939 - val_loss: 1.1353 - val_accuracy: 0.7550\n",
            "Epoch 29/50\n",
            "56/56 [==============================] - 0s 3ms/step - loss: 0.0675 - accuracy: 0.9944 - val_loss: 1.1367 - val_accuracy: 0.7500\n",
            "Epoch 30/50\n",
            "56/56 [==============================] - 0s 3ms/step - loss: 0.0617 - accuracy: 0.9961 - val_loss: 1.1676 - val_accuracy: 0.7450\n",
            "Epoch 31/50\n",
            "56/56 [==============================] - 0s 3ms/step - loss: 0.0577 - accuracy: 0.9950 - val_loss: 1.1783 - val_accuracy: 0.7600\n",
            "Epoch 32/50\n",
            "56/56 [==============================] - 0s 3ms/step - loss: 0.0509 - accuracy: 0.9966 - val_loss: 1.1980 - val_accuracy: 0.7700\n",
            "Epoch 33/50\n",
            "56/56 [==============================] - 0s 3ms/step - loss: 0.0459 - accuracy: 0.9966 - val_loss: 1.1911 - val_accuracy: 0.7600\n",
            "Epoch 34/50\n",
            "56/56 [==============================] - 0s 3ms/step - loss: 0.0424 - accuracy: 0.9972 - val_loss: 1.2008 - val_accuracy: 0.7650\n",
            "Epoch 35/50\n",
            "56/56 [==============================] - 0s 3ms/step - loss: 0.0392 - accuracy: 0.9966 - val_loss: 1.2086 - val_accuracy: 0.7400\n",
            "Epoch 36/50\n",
            "56/56 [==============================] - 0s 3ms/step - loss: 0.0345 - accuracy: 0.9972 - val_loss: 1.2590 - val_accuracy: 0.7650\n",
            "Epoch 37/50\n",
            "56/56 [==============================] - 0s 3ms/step - loss: 0.0331 - accuracy: 0.9966 - val_loss: 1.2504 - val_accuracy: 0.7800\n",
            "Epoch 38/50\n",
            "56/56 [==============================] - 0s 3ms/step - loss: 0.0295 - accuracy: 0.9983 - val_loss: 1.2656 - val_accuracy: 0.7600\n",
            "Epoch 39/50\n",
            "56/56 [==============================] - 0s 3ms/step - loss: 0.0280 - accuracy: 0.9966 - val_loss: 1.2622 - val_accuracy: 0.7600\n",
            "Epoch 40/50\n",
            "56/56 [==============================] - 0s 3ms/step - loss: 0.0262 - accuracy: 0.9972 - val_loss: 1.2890 - val_accuracy: 0.7650\n",
            "Epoch 41/50\n",
            "56/56 [==============================] - 0s 3ms/step - loss: 0.0270 - accuracy: 0.9972 - val_loss: 1.3122 - val_accuracy: 0.7700\n",
            "Epoch 42/50\n",
            "56/56 [==============================] - 0s 3ms/step - loss: 0.0232 - accuracy: 0.9966 - val_loss: 1.3284 - val_accuracy: 0.7600\n",
            "Epoch 43/50\n",
            "56/56 [==============================] - 0s 3ms/step - loss: 0.0210 - accuracy: 0.9972 - val_loss: 1.3100 - val_accuracy: 0.7650\n",
            "Epoch 44/50\n",
            "56/56 [==============================] - 0s 3ms/step - loss: 0.0197 - accuracy: 0.9983 - val_loss: 1.3414 - val_accuracy: 0.7650\n",
            "Epoch 45/50\n",
            "56/56 [==============================] - 0s 3ms/step - loss: 0.0179 - accuracy: 0.9972 - val_loss: 1.3425 - val_accuracy: 0.7650\n",
            "Epoch 46/50\n",
            "56/56 [==============================] - 0s 3ms/step - loss: 0.0189 - accuracy: 0.9978 - val_loss: 1.3518 - val_accuracy: 0.7700\n",
            "Epoch 47/50\n",
            "56/56 [==============================] - 0s 3ms/step - loss: 0.0202 - accuracy: 0.9972 - val_loss: 1.3584 - val_accuracy: 0.7700\n",
            "Epoch 48/50\n",
            "56/56 [==============================] - 0s 3ms/step - loss: 0.0183 - accuracy: 0.9972 - val_loss: 1.4066 - val_accuracy: 0.7550\n",
            "Epoch 49/50\n",
            "56/56 [==============================] - 0s 3ms/step - loss: 0.0178 - accuracy: 0.9978 - val_loss: 1.3923 - val_accuracy: 0.7750\n",
            "Epoch 50/50\n",
            "56/56 [==============================] - 0s 3ms/step - loss: 0.0157 - accuracy: 0.9966 - val_loss: 1.3840 - val_accuracy: 0.7700\n"
          ],
          "name": "stdout"
        },
        {
          "output_type": "execute_result",
          "data": {
            "text/plain": [
              "<tensorflow.python.keras.callbacks.History at 0x7f17eb8496d8>"
            ]
          },
          "metadata": {
            "tags": []
          },
          "execution_count": 4
        }
      ]
    },
    {
      "cell_type": "code",
      "metadata": {
        "id": "2rLZsBhnhk_h"
      },
      "source": [
        "def getFaceExpressionFromIndex(i):\n",
        "  if (i == 0):\n",
        "      return 'surprise'\n",
        "  elif (i == 1):\n",
        "      return 'smile'\n",
        "  elif (i == 2):\n",
        "      return 'sad'\n",
        "  elif (i == 3):\n",
        "      return 'anger'\n",
        "  elif (i == 4):\n",
        "      return 'fear'\n",
        "  elif (i == 5):\n",
        "      return 'disgust'\n",
        "  elif (i == 6):\n",
        "      return 'none'\n",
        "  else:\n",
        "      print(i)"
      ],
      "execution_count": null,
      "outputs": []
    },
    {
      "cell_type": "code",
      "metadata": {
        "id": "8q2LQzbnhnjc",
        "outputId": "7f1e7205-225f-40d9-e845-d977729d8c9e",
        "colab": {
          "base_uri": "https://localhost:8080/",
          "height": 1000
        }
      },
      "source": [
        "test_predictions = model.predict(X_test)\n",
        "correct = 0\n",
        "for i in range(len(test_predictions)):\n",
        "  truth = np.argmax(y_test[i])\n",
        "  prediction = np.argmax(test_predictions[i])\n",
        "  if truth == prediction:\n",
        "    correct += 1\n",
        "  else:\n",
        "    print(f'Wrong classification, truth: {getFaceExpressionFromIndex(truth)}')\n",
        "    print(f'Wrong classification, prediction: {getFaceExpressionFromIndex(prediction)}')\n",
        "    print(\"---------------------------------------------------------------------------\")\n",
        "\n",
        "print(f'Accuracy of predicitons: {correct / len(test_predictions)}')\n",
        "print(f'Got correct: {correct}')\n",
        "print(f'Got wrong: {len(test_predictions) - correct}')"
      ],
      "execution_count": null,
      "outputs": [
        {
          "output_type": "stream",
          "text": [
            "Wrong classification, truth: anger\n",
            "Wrong classification, prediction: sad\n",
            "---------------------------------------------------------------------------\n",
            "Wrong classification, truth: sad\n",
            "Wrong classification, prediction: smile\n",
            "---------------------------------------------------------------------------\n",
            "Wrong classification, truth: smile\n",
            "Wrong classification, prediction: sad\n",
            "---------------------------------------------------------------------------\n",
            "Wrong classification, truth: sad\n",
            "Wrong classification, prediction: anger\n",
            "---------------------------------------------------------------------------\n",
            "Wrong classification, truth: smile\n",
            "Wrong classification, prediction: none\n",
            "---------------------------------------------------------------------------\n",
            "Wrong classification, truth: surprise\n",
            "Wrong classification, prediction: smile\n",
            "---------------------------------------------------------------------------\n",
            "Wrong classification, truth: none\n",
            "Wrong classification, prediction: sad\n",
            "---------------------------------------------------------------------------\n",
            "Wrong classification, truth: anger\n",
            "Wrong classification, prediction: fear\n",
            "---------------------------------------------------------------------------\n",
            "Wrong classification, truth: fear\n",
            "Wrong classification, prediction: sad\n",
            "---------------------------------------------------------------------------\n",
            "Wrong classification, truth: none\n",
            "Wrong classification, prediction: sad\n",
            "---------------------------------------------------------------------------\n",
            "Wrong classification, truth: surprise\n",
            "Wrong classification, prediction: disgust\n",
            "---------------------------------------------------------------------------\n",
            "Wrong classification, truth: smile\n",
            "Wrong classification, prediction: none\n",
            "---------------------------------------------------------------------------\n",
            "Wrong classification, truth: fear\n",
            "Wrong classification, prediction: surprise\n",
            "---------------------------------------------------------------------------\n",
            "Wrong classification, truth: surprise\n",
            "Wrong classification, prediction: fear\n",
            "---------------------------------------------------------------------------\n",
            "Wrong classification, truth: none\n",
            "Wrong classification, prediction: anger\n",
            "---------------------------------------------------------------------------\n",
            "Wrong classification, truth: none\n",
            "Wrong classification, prediction: surprise\n",
            "---------------------------------------------------------------------------\n",
            "Wrong classification, truth: anger\n",
            "Wrong classification, prediction: smile\n",
            "---------------------------------------------------------------------------\n",
            "Wrong classification, truth: anger\n",
            "Wrong classification, prediction: smile\n",
            "---------------------------------------------------------------------------\n",
            "Wrong classification, truth: smile\n",
            "Wrong classification, prediction: none\n",
            "---------------------------------------------------------------------------\n",
            "Wrong classification, truth: surprise\n",
            "Wrong classification, prediction: smile\n",
            "---------------------------------------------------------------------------\n",
            "Wrong classification, truth: sad\n",
            "Wrong classification, prediction: anger\n",
            "---------------------------------------------------------------------------\n",
            "Wrong classification, truth: anger\n",
            "Wrong classification, prediction: fear\n",
            "---------------------------------------------------------------------------\n",
            "Wrong classification, truth: smile\n",
            "Wrong classification, prediction: surprise\n",
            "---------------------------------------------------------------------------\n",
            "Wrong classification, truth: none\n",
            "Wrong classification, prediction: smile\n",
            "---------------------------------------------------------------------------\n",
            "Wrong classification, truth: smile\n",
            "Wrong classification, prediction: anger\n",
            "---------------------------------------------------------------------------\n",
            "Wrong classification, truth: surprise\n",
            "Wrong classification, prediction: sad\n",
            "---------------------------------------------------------------------------\n",
            "Wrong classification, truth: disgust\n",
            "Wrong classification, prediction: sad\n",
            "---------------------------------------------------------------------------\n",
            "Wrong classification, truth: sad\n",
            "Wrong classification, prediction: anger\n",
            "---------------------------------------------------------------------------\n",
            "Wrong classification, truth: anger\n",
            "Wrong classification, prediction: smile\n",
            "---------------------------------------------------------------------------\n",
            "Wrong classification, truth: anger\n",
            "Wrong classification, prediction: smile\n",
            "---------------------------------------------------------------------------\n",
            "Wrong classification, truth: anger\n",
            "Wrong classification, prediction: smile\n",
            "---------------------------------------------------------------------------\n",
            "Wrong classification, truth: fear\n",
            "Wrong classification, prediction: surprise\n",
            "---------------------------------------------------------------------------\n",
            "Wrong classification, truth: smile\n",
            "Wrong classification, prediction: sad\n",
            "---------------------------------------------------------------------------\n",
            "Wrong classification, truth: sad\n",
            "Wrong classification, prediction: anger\n",
            "---------------------------------------------------------------------------\n",
            "Wrong classification, truth: surprise\n",
            "Wrong classification, prediction: anger\n",
            "---------------------------------------------------------------------------\n",
            "Wrong classification, truth: fear\n",
            "Wrong classification, prediction: none\n",
            "---------------------------------------------------------------------------\n",
            "Accuracy of predicitons: 0.8378378378378378\n",
            "Got correct: 186\n",
            "Got wrong: 36\n"
          ],
          "name": "stdout"
        }
      ]
    }
  ]
}